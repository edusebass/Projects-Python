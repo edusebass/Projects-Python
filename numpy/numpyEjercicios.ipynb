{
 "cells": [
  {
   "cell_type": "code",
   "execution_count": 13,
   "id": "abb2b11b",
   "metadata": {},
   "outputs": [
    {
     "name": "stdout",
     "output_type": "stream",
     "text": [
      "147.10569381713867\n",
      "38.89584541320801\n"
     ]
    }
   ],
   "source": [
    "import time\n",
    "import numpy as np\n",
    "import sys\n",
    "\n",
    "SIZE = 1000000\n",
    "\n",
    "L1 = range(SIZE)\n",
    "L2 = range(SIZE)\n",
    "A1 = np.arange(SIZE)\n",
    "A2 = np.arange(SIZE)\n",
    "start = time.time()\n",
    "result =[(x,y) for x,y in zip(L1,L2)] # Revisar Comprehension\n",
    "print((time.time()-start)*1000)\n",
    "start = time.time()\n",
    "result = A1+A2\n",
    "print((time.time()-start)*1000)"
   ]
  },
  {
   "cell_type": "code",
   "execution_count": 15,
   "id": "621eedcd",
   "metadata": {},
   "outputs": [
    {
     "data": {
      "text/plain": [
       "0.0"
      ]
     },
     "execution_count": 15,
     "metadata": {},
     "output_type": "execute_result"
    }
   ],
   "source": [
    "import time\n",
    "import numpy as np\n",
    "\n",
    "list1 = [i for i in range (1000)]\n",
    "list2 = [i for i in range (1000)]\n",
    "\n",
    "inicio = time.time()\n",
    "dot = 0\n",
    "for i,j in zip(list1, list2):\n",
    "    dot += i *j\n",
    "    \n",
    "round(time.time()-inicio, 5)"
   ]
  },
  {
   "cell_type": "code",
   "execution_count": 17,
   "id": "9f62c564",
   "metadata": {},
   "outputs": [
    {
     "data": {
      "text/plain": [
       "0.012"
      ]
     },
     "execution_count": 17,
     "metadata": {},
     "output_type": "execute_result"
    }
   ],
   "source": [
    "import time\n",
    "import numpy as np\n",
    "\n",
    "import time\n",
    "import numpy as np\n",
    "arr1 = np.array([i for i in range(10000000)])\n",
    "arr2 = np.array([i for i in range(10000000)])\n",
    "inicio = time.time()\n",
    "arr = np.dot(arr1, arr2)\n",
    "round(time.time()-inicio,5)\n"
   ]
  },
  {
   "cell_type": "code",
   "execution_count": 18,
   "id": "6ec6c6c5",
   "metadata": {},
   "outputs": [
    {
     "data": {
      "text/plain": [
       "0.0"
      ]
     },
     "execution_count": 18,
     "metadata": {},
     "output_type": "execute_result"
    }
   ],
   "source": []
  },
  {
   "cell_type": "code",
   "execution_count": 19,
   "id": "f2f5d41f",
   "metadata": {},
   "outputs": [
    {
     "data": {
      "text/plain": [
       "0.001"
      ]
     },
     "execution_count": 19,
     "metadata": {},
     "output_type": "execute_result"
    }
   ],
   "source": []
  },
  {
   "cell_type": "code",
   "execution_count": 20,
   "id": "d4acb88f",
   "metadata": {},
   "outputs": [],
   "source": [
    "#concatenacion de dos arreglos"
   ]
  },
  {
   "cell_type": "code",
   "execution_count": 21,
   "id": "fd314a66",
   "metadata": {},
   "outputs": [
    {
     "data": {
      "text/plain": [
       "0.0"
      ]
     },
     "execution_count": 21,
     "metadata": {},
     "output_type": "execute_result"
    }
   ],
   "source": [
    "import time\n",
    "import numpy as np\n",
    "arr1=np.array([i for i in range(10000)])\n",
    "arr2=np.array([i for i in range(10000)])\n",
    "inicio = time.time()\n",
    "arr=np.concatenate((arr1,arr2),axis=0)\n",
    "round(time.time()-inicio,5)"
   ]
  },
  {
   "cell_type": "code",
   "execution_count": 22,
   "id": "efd386bf",
   "metadata": {},
   "outputs": [
    {
     "data": {
      "text/plain": [
       "0.0"
      ]
     },
     "execution_count": 22,
     "metadata": {},
     "output_type": "execute_result"
    }
   ],
   "source": [
    "import time\n",
    "import numpy as np\n",
    "list1=[i for i in range (10000)]\n",
    "list2=[i for i in range (10000)]\n",
    "inicio = time.time()\n",
    "list1+=list2\n",
    "round(time.time()-inicio,5)"
   ]
  },
  {
   "cell_type": "code",
   "execution_count": 23,
   "id": "e67b9776",
   "metadata": {},
   "outputs": [],
   "source": [
    "#Eliminación\n"
   ]
  },
  {
   "cell_type": "code",
   "execution_count": 24,
   "id": "8fb1c849",
   "metadata": {},
   "outputs": [
    {
     "data": {
      "text/plain": [
       "0.0"
      ]
     },
     "execution_count": 24,
     "metadata": {},
     "output_type": "execute_result"
    }
   ],
   "source": [
    "import time\n",
    "import numpy as np\n",
    "list1=[i for i in range (10000)]\n",
    "inicio = time.time()\n",
    "del(list1)\n",
    "round(time.time()-inicio,5)"
   ]
  },
  {
   "cell_type": "code",
   "execution_count": 25,
   "id": "ce3d6cc4",
   "metadata": {},
   "outputs": [
    {
     "data": {
      "text/plain": [
       "0.0"
      ]
     },
     "execution_count": 25,
     "metadata": {},
     "output_type": "execute_result"
    }
   ],
   "source": [
    "import time\n",
    "import numpy as np\n",
    "arr1=np.array([i for i in range(10000)])\n",
    "inicio = time.time()\n",
    "del(arr1)\n",
    "round(time.time()-inicio,5)"
   ]
  },
  {
   "cell_type": "code",
   "execution_count": 26,
   "id": "817f0323",
   "metadata": {},
   "outputs": [],
   "source": [
    "#Ejercicios"
   ]
  },
  {
   "cell_type": "code",
   "execution_count": 28,
   "id": "573d2c7a",
   "metadata": {},
   "outputs": [
    {
     "name": "stdout",
     "output_type": "stream",
     "text": [
      "[25.  12.  15.  66.  12.5]\n"
     ]
    }
   ],
   "source": [
    "lista = [25, 12, 15, 66, 12.5] \n",
    "vector = np.array(lista) \n",
    "print(vector)"
   ]
  },
  {
   "cell_type": "code",
   "execution_count": 29,
   "id": "43ef2d8c",
   "metadata": {},
   "outputs": [],
   "source": [
    "#al ser el elemento vector de numpy, \n",
    "#nos permite realizar operaciones de \n",
    "#forma simple"
   ]
  },
  {
   "cell_type": "code",
   "execution_count": 32,
   "id": "a209cdea",
   "metadata": {},
   "outputs": [
    {
     "name": "stdout",
     "output_type": "stream",
     "text": [
      "66.0\n",
      "[12. 15. 66.]\n",
      "[12.  15.  66.  12.5]\n",
      "[25. 12. 15. 66.]\n",
      "[25.  12.  15.  66.  12.5]\n"
     ]
    }
   ],
   "source": [
    "# Podemos acceder a sub elementos \n",
    "# del vector:\n",
    "print(vector[3])\n",
    "print(vector[1:4])\n",
    "print(vector[1:])\n",
    "print(vector[:4])\n",
    "print(vector[:])"
   ]
  },
  {
   "cell_type": "code",
   "execution_count": 34,
   "id": "ad86cef8",
   "metadata": {},
   "outputs": [
    {
     "name": "stdout",
     "output_type": "stream",
     "text": [
      "- vector original\n",
      "[25.  12.  15.  66.  12.5]\n",
      "- sumarle 1 a cada elemento del vector:\n",
      "[26.  13.  16.  67.  13.5]\n",
      "- multiplicar por 5 cada elemento del vector:\n",
      "[125.   60.   75.  330.   62.5]\n",
      "- suma de los elementos:\n",
      "130.5\n",
      "- promedio (media) de los elementos:\n",
      "26.1\n",
      "- el vector sumado a si mismo:\n",
      "[ 50.  24.  30. 132.  25.]\n",
      "- suma de vectores vector1 y vector2 (mismo tamaño):\n",
      "[36.  67.  16.2 73.4  4.5]\n"
     ]
    }
   ],
   "source": [
    "print(\"- vector original\")\n",
    "print(vector)\n",
    "print(\"- sumarle 1 a cada elemento del vector:\")\n",
    "print(vector + 1)\n",
    "print(\"- multiplicar por 5 cada elemento del vector:\")\n",
    "print(vector * 5)\n",
    "print(\"- suma de los elementos:\")\n",
    "print(np.sum(vector))\n",
    "print(\"- promedio (media) de los elementos:\")\n",
    "print(np.mean(vector)) # \n",
    "print(\"- el vector sumado a si mismo:\")\n",
    "print(vector + vector)\n",
    "print(\"- suma de vectores vector1 y vector2 (mismo tamaño):\")\n",
    "vector2 = np.array([11,55,1.2,7.4,-8])\n",
    "print(vector + vector2)"
   ]
  },
  {
   "cell_type": "code",
   "execution_count": 35,
   "id": "eb551a7e",
   "metadata": {},
   "outputs": [],
   "source": [
    "#matrices\n"
   ]
  },
  {
   "cell_type": "code",
   "execution_count": 39,
   "id": "7e6ffe7d",
   "metadata": {},
   "outputs": [
    {
     "name": "stdout",
     "output_type": "stream",
     "text": [
      "- Matriz creada con una lista de listas:\n",
      "[[ 1.  -4. ]\n",
      " [12.   3. ]\n",
      " [ 7.2  5. ]]\n",
      "- Matriz creada con np.zeros:\n",
      "[[0. 0. 0.]\n",
      " [0. 0. 0.]]\n",
      "- Matriz creada con np.ones:\n",
      "[[1. 1.]\n",
      " [1. 1.]\n",
      " [1. 1.]]\n"
     ]
    }
   ],
   "source": [
    "print(\"- Matriz creada con una lista de listas:\")\n",
    "lista_de_listas=[ [1 ,-4], \n",
    "                  [12 , 3], \n",
    "                  [7.2, 5]]\n",
    "\n",
    "matriz = np.array(lista_de_listas)\n",
    "print(matriz)\n",
    "\n",
    "print(\"- Matriz creada con np.zeros:\")\n",
    "dimensiones=(2,3)\n",
    "matriz_ceros = np.zeros(dimensiones)\n",
    "print(matriz_ceros)\n",
    "\n",
    "print(\"- Matriz creada con np.ones:\")\n",
    "dimensiones=(3,2)\n",
    "matriz_unos = np.ones(dimensiones)\n",
    "print(matriz_unos)"
   ]
  },
  {
   "cell_type": "code",
   "execution_count": 41,
   "id": "9494873e",
   "metadata": {},
   "outputs": [
    {
     "name": "stdout",
     "output_type": "stream",
     "text": [
      "- Copia de la matriz creada con np.ones:\n",
      "[[1. 1.]\n",
      " [1. 1.]\n",
      " [1. 1.]]\n"
     ]
    }
   ],
   "source": [
    "#también podemos usar np.copy para copiar una matriz \n",
    "print(\"- Copia de la matriz creada con np.ones:\")\n",
    "matriz_unos_copia=np.copy(matriz_unos)\n",
    "print(matriz_unos_copia)\n"
   ]
  },
  {
   "cell_type": "code",
   "execution_count": 43,
   "id": "8a837c7b",
   "metadata": {},
   "outputs": [],
   "source": [
    "#ejercicios matrices\n"
   ]
  },
  {
   "cell_type": "code",
   "execution_count": 51,
   "id": "5d17a715",
   "metadata": {},
   "outputs": [
    {
     "name": "stdout",
     "output_type": "stream",
     "text": [
      "[[0.5 0.5 0.5 0.5]\n",
      " [0.5 0.5 0.5 0.5]\n",
      " [0.5 0.5 0.5 0.5]\n",
      " [0.5 0.5 0.5 0.5]]\n"
     ]
    }
   ],
   "source": [
    "dimensiones=(4, 4)\n",
    "matriz_unos = np.ones(dimensiones)\n",
    "\n",
    "print(matriz_unos * 0.5)"
   ]
  },
  {
   "cell_type": "code",
   "execution_count": 64,
   "id": "ec484472",
   "metadata": {},
   "outputs": [
    {
     "name": "stdout",
     "output_type": "stream",
     "text": [
      "[[76 23 88 31 38]\n",
      " [28 51 34 75 78]\n",
      " [39 31  2 84 19]\n",
      " [96 87 83 39  9]\n",
      " [33 62 91 94 51]]\n"
     ]
    }
   ],
   "source": [
    "import random\n",
    " \n",
    "random.randint(1, 101)\n",
    "matriz = np.random.randint(1, 101, size = (5, 5))\n",
    "print(matriz)"
   ]
  },
  {
   "cell_type": "code",
   "execution_count": 58,
   "id": "2dcf24f9",
   "metadata": {},
   "outputs": [],
   "source": [
    "#ejercicios\n",
    "# Ejercicios:\n",
    "# Crear un vector con valores dentro del rango 10 a 49\n",
    "a = np.arange(10,50)"
   ]
  },
  {
   "cell_type": "code",
   "execution_count": 59,
   "id": "5d4c058b",
   "metadata": {},
   "outputs": [
    {
     "data": {
      "text/plain": [
       "array([49, 48, 47, 46, 45, 44, 43, 42, 41, 40, 39, 38, 37, 36, 35, 34, 33,\n",
       "       32, 31, 30, 29, 28, 27, 26, 25, 24, 23, 22, 21, 20, 19, 18, 17, 16,\n",
       "       15, 14, 13, 12, 11, 10])"
      ]
     },
     "execution_count": 59,
     "metadata": {},
     "output_type": "execute_result"
    }
   ],
   "source": [
    "a[::-1]\n"
   ]
  },
  {
   "cell_type": "code",
   "execution_count": 60,
   "id": "f3f87236",
   "metadata": {},
   "outputs": [
    {
     "data": {
      "text/plain": [
       "array([[0, 1, 2],\n",
       "       [3, 4, 5],\n",
       "       [6, 7, 8]])"
      ]
     },
     "execution_count": 60,
     "metadata": {},
     "output_type": "execute_result"
    }
   ],
   "source": [
    "# Crear una matriz 3x3 con valores de 0 a 8\n",
    "np.arange(0,9).reshape(3,3)"
   ]
  },
  {
   "cell_type": "code",
   "execution_count": 61,
   "id": "202df76f",
   "metadata": {},
   "outputs": [
    {
     "data": {
      "text/plain": [
       "array([[1., 0., 0., 0., 0., 0.],\n",
       "       [0., 1., 0., 0., 0., 0.],\n",
       "       [0., 0., 1., 0., 0., 0.],\n",
       "       [0., 0., 0., 1., 0., 0.],\n",
       "       [0., 0., 0., 0., 1., 0.],\n",
       "       [0., 0., 0., 0., 0., 1.]])"
      ]
     },
     "execution_count": 61,
     "metadata": {},
     "output_type": "execute_result"
    }
   ],
   "source": [
    "# Crear una matriz identidad de 6x6\n",
    "np.identity(6)"
   ]
  },
  {
   "cell_type": "code",
   "execution_count": 62,
   "id": "75c832be",
   "metadata": {},
   "outputs": [
    {
     "data": {
      "text/plain": [
       "array([[[0.11504137, 0.5154958 , 0.58252652],\n",
       "        [0.23322876, 0.33698758, 0.44658036],\n",
       "        [0.00995934, 0.54442635, 0.36969774]],\n",
       "\n",
       "       [[0.28500384, 0.69682094, 0.01580549],\n",
       "        [0.34525606, 0.63392236, 0.90045597],\n",
       "        [0.08064305, 0.8568435 , 0.14207912]],\n",
       "\n",
       "       [[0.92951903, 0.2231868 , 0.59020355],\n",
       "        [0.42488288, 0.7911182 , 0.68461419],\n",
       "        [0.04802913, 0.74151012, 0.19056559]]])"
      ]
     },
     "execution_count": 62,
     "metadata": {},
     "output_type": "execute_result"
    }
   ],
   "source": [
    "# Crear una matriz con valores al azar con forma 3x3x3\n",
    "r = np.random.random((3,3,3))\n",
    "r\n"
   ]
  },
  {
   "cell_type": "code",
   "execution_count": 65,
   "id": "71a0a1c0",
   "metadata": {},
   "outputs": [],
   "source": [
    "#Ejericicios\n"
   ]
  },
  {
   "cell_type": "code",
   "execution_count": 67,
   "id": "0989e02e",
   "metadata": {},
   "outputs": [
    {
     "name": "stdout",
     "output_type": "stream",
     "text": [
      "18\n",
      "0.9295190325101812\n",
      "[[[0.11504137 0.5154958  0.58252652]\n",
      "  [0.23322876 0.33698758 0.44658036]\n",
      "  [0.00995934 0.54442635 0.36969774]]\n",
      "\n",
      " [[0.28500384 0.69682094 0.01580549]\n",
      "  [0.34525606 0.63392236 0.90045597]\n",
      "  [0.08064305 0.8568435  0.14207912]]\n",
      "\n",
      " [[0.92951903 0.2231868  0.59020355]\n",
      "  [0.42488288 0.7911182  0.68461419]\n",
      "  [0.04802913 0.74151012 0.19056559]]]\n",
      "(2, 0, 0)\n"
     ]
    },
    {
     "data": {
      "text/plain": [
       "0.9295190325101812"
      ]
     },
     "execution_count": 67,
     "metadata": {},
     "output_type": "execute_result"
    }
   ],
   "source": [
    "# Encontrar los indices de los valores minimos y maximos de la anterior matriz\n",
    "print( r.argmax() )\n",
    "print( r.ravel()[r.argmax()] )\n",
    "\n",
    "print(r)\n",
    "print(np.unravel_index(r.argmax(), r.shape))\n",
    "r[np.unravel_index(r.argmax(), r.shape)]"
   ]
  },
  {
   "cell_type": "code",
   "execution_count": 70,
   "id": "6bc0d18e",
   "metadata": {},
   "outputs": [
    {
     "data": {
      "text/plain": [
       "array([[1., 1., 1., 1., 1., 1., 1., 1., 1., 1.],\n",
       "       [1., 0., 0., 0., 0., 0., 0., 0., 0., 1.],\n",
       "       [1., 0., 0., 0., 0., 0., 0., 0., 0., 1.],\n",
       "       [1., 0., 0., 0., 0., 0., 0., 0., 0., 1.],\n",
       "       [1., 0., 0., 0., 0., 0., 0., 0., 0., 1.],\n",
       "       [1., 0., 0., 0., 0., 0., 0., 0., 0., 1.],\n",
       "       [1., 0., 0., 0., 0., 0., 0., 0., 0., 1.],\n",
       "       [1., 0., 0., 0., 0., 0., 0., 0., 0., 1.],\n",
       "       [1., 0., 0., 0., 0., 0., 0., 0., 0., 1.],\n",
       "       [1., 1., 1., 1., 1., 1., 1., 1., 1., 1.]])"
      ]
     },
     "execution_count": 70,
     "metadata": {},
     "output_type": "execute_result"
    }
   ],
   "source": [
    "# Crear una matriz de 10x10 con 1's en los bordes y 0 en el interior (con rangos de indices)\n",
    "z = np.ones((10,10))\n",
    "z[1:-1,1:-1] = 0\n",
    "z\n"
   ]
  },
  {
   "cell_type": "code",
   "execution_count": null,
   "id": "829ed544",
   "metadata": {},
   "outputs": [],
   "source": [
    "\n"
   ]
  },
  {
   "cell_type": "code",
   "execution_count": 71,
   "id": "eb2c3d55",
   "metadata": {},
   "outputs": [],
   "source": [
    "#ejericicios\n"
   ]
  },
  {
   "cell_type": "code",
   "execution_count": 72,
   "id": "b6a0d7c9",
   "metadata": {},
   "outputs": [
    {
     "data": {
      "text/plain": [
       "array([[0, 1, 2, 3, 4],\n",
       "       [0, 1, 2, 3, 4],\n",
       "       [0, 1, 2, 3, 4],\n",
       "       [0, 1, 2, 3, 4],\n",
       "       [0, 1, 2, 3, 4]])"
      ]
     },
     "execution_count": 72,
     "metadata": {},
     "output_type": "execute_result"
    }
   ],
   "source": [
    "# Crear una matriz de 5x5 con valores en los renglones que vayan de 0 a 4\n",
    "np.tile( np.arange(0,5) , 5).reshape(5,5)"
   ]
  },
  {
   "cell_type": "code",
   "execution_count": 73,
   "id": "a51fdf1a",
   "metadata": {},
   "outputs": [
    {
     "data": {
      "text/plain": [
       "array([[False, False, False],\n",
       "       [False, False, False],\n",
       "       [False, False, False]])"
      ]
     },
     "execution_count": 73,
     "metadata": {},
     "output_type": "execute_result"
    }
   ],
   "source": [
    "# Crear dos arreglos al azar A y B, verificar si son iguales\n",
    "a = np.random.random((3,3))\n",
    "b = np.random.random((3,3))\n",
    "a == b\n"
   ]
  },
  {
   "cell_type": "code",
   "execution_count": 91,
   "id": "12c89082",
   "metadata": {},
   "outputs": [
    {
     "name": "stdout",
     "output_type": "stream",
     "text": [
      "[[1681    1 5476 1681   64  361  900 5625  196 3481]\n",
      " [ 169 1600 9604  900 3481  529 4489 2209 6084  121]\n",
      " [  49 7744 3481  961 1225 5041    1 8649  289  841]\n",
      " [3844   16 6241 9604 3025  361 9801 6241 2809    1]\n",
      " [ 196 1024 2304  961 4356  676 9216 4356 4624 1369]\n",
      " [  49 3721 1764 1089  196 4624 1225  121 9409  784]\n",
      " [7569  324 2809  900 8649  289 2025  324 3025  361]\n",
      " [ 576 5776 7225 1849  841  729 5476  529  225    9]\n",
      " [5476 8464  676 1024 7921 2500 2916 6889   49    4]\n",
      " [ 289   16   25 5776   16 8100 6241 4900   25  841]]\n",
      "Tiempo trabajo:  0.0\n"
     ]
    }
   ],
   "source": [
    "#EJERCICIOS\n",
    "# Tomar el tiempo de la multiplicación de matrices de las siguientes dimensiones:\n",
    "# 10x10, 100x100, 1000x1000 \n",
    "# Guardar los tiempos de los resultados en un archivo\n",
    "\n",
    "\n",
    "inicio = time.time()\n",
    "#10\n",
    "matriz = np.random.randint(1, 100, size = (10, 10))\n",
    "matriz_copia = np.copy(matriz) \n",
    "print(matriz * matriz_copia)\n",
    "\n",
    "tiempo = round(time.time()-inicio, 5)\n",
    "print(\"Tiempo trabajo: \", tiempo)\n",
    "t = str(tiempo)\n",
    "\n",
    "archivo = open(\"numpy.txt\", \"a\")\n",
    "archivo.write(\"\\n\" + t + \"\\n\")\n",
    "archivo.close()\n",
    "\n",
    "\n",
    "\n"
   ]
  },
  {
   "cell_type": "code",
   "execution_count": 90,
   "id": "c5b7ce02",
   "metadata": {},
   "outputs": [
    {
     "name": "stdout",
     "output_type": "stream",
     "text": [
      "[[1089  576 1024 ... 1600 7225 3600]\n",
      " [1444   49 9604 ... 1444   49 6084]\n",
      " [ 324 6084  400 ... 6561 8836  961]\n",
      " ...\n",
      " [4225 5041 1296 ... 1681 1936 1156]\n",
      " [9409  676 2704 ... 3844 9216 1156]\n",
      " [   1 2116 2401 ... 3025    9  289]]\n",
      "Tiempo trabajo:  0.00102\n"
     ]
    }
   ],
   "source": [
    "inicio = time.time()\n",
    "#100\n",
    "matriz = np.random.randint(1, 100, size = (100, 100))\n",
    "matriz_copia = np.copy(matriz) \n",
    "print(matriz * matriz_copia)\n",
    "\n",
    "tiempo = round(time.time()-inicio, 5)\n",
    "print(\"Tiempo trabajo: \", tiempo)\n",
    "t = str(tiempo)\n",
    "\n",
    "archivo = open(\"numpy.txt\", \"a\")\n",
    "archivo.write(\"\\n\" + t + \"\\n\")\n",
    "archivo.close()"
   ]
  },
  {
   "cell_type": "code",
   "execution_count": 92,
   "id": "37c33032",
   "metadata": {},
   "outputs": [
    {
     "name": "stdout",
     "output_type": "stream",
     "text": [
      "[[   9   81 5929 ... 5776 2704 9409]\n",
      " [5041  529    9 ... 7921  144 1764]\n",
      " [3025   49 4356 ... 8836 4356 1521]\n",
      " ...\n",
      " [3721 2704 7744 ...  256  225 4900]\n",
      " [4900 8100  144 ... 2500 2916 8836]\n",
      " [3844 9604  676 ... 7056 3721   49]]\n",
      "Tiempo trabajo:  0.01288\n"
     ]
    }
   ],
   "source": [
    "inicio = time.time()\n",
    "#100\n",
    "matriz = np.random.randint(1, 100, size = (1000, 1000))\n",
    "matriz_copia = np.copy(matriz) \n",
    "print(matriz * matriz_copia)\n",
    "\n",
    "tiempo = round(time.time()-inicio, 5)\n",
    "print(\"Tiempo trabajo: \", tiempo)\n",
    "t = str(tiempo)\n",
    "\n",
    "archivo = open(\"numpy.txt\", \"a\")\n",
    "archivo.write(\"\\n\" + t + \"\\n\")\n",
    "archivo.close()"
   ]
  },
  {
   "cell_type": "code",
   "execution_count": 93,
   "id": "258ced00",
   "metadata": {},
   "outputs": [
    {
     "name": "stdout",
     "output_type": "stream",
     "text": [
      "[[7056   16  169 ... 6400 6084 3969]\n",
      " [5929   25   64 ...  225   16    4]\n",
      " [  64 8100 2809 ... 2601 2601   64]\n",
      " ...\n",
      " [ 729 1089 9409 ... 1156 3364 8281]\n",
      " [ 289 1444 5329 ...  144 2401 2209]\n",
      " [   1 2916  324 ... 9216 3969 2601]]\n",
      "Tiempo trabajo:  1.26511\n"
     ]
    }
   ],
   "source": [
    "inicio = time.time()\n",
    "#100\n",
    "matriz = np.random.randint(1, 100, size = (10000, 10000))\n",
    "matriz_copia = np.copy(matriz) \n",
    "print(matriz * matriz_copia)\n",
    "\n",
    "tiempo = round(time.time()-inicio, 5)\n",
    "print(\"Tiempo trabajo: \", tiempo)\n",
    "t = str(tiempo)\n",
    "\n",
    "archivo = open(\"numpy.txt\", \"a\")\n",
    "archivo.write(\"\\n\" + t + \"\\n\")\n",
    "archivo.close()"
   ]
  },
  {
   "cell_type": "code",
   "execution_count": null,
   "id": "5f5236d2",
   "metadata": {},
   "outputs": [],
   "source": []
  }
 ],
 "metadata": {
  "kernelspec": {
   "display_name": "Python 3 (ipykernel)",
   "language": "python",
   "name": "python3"
  },
  "language_info": {
   "codemirror_mode": {
    "name": "ipython",
    "version": 3
   },
   "file_extension": ".py",
   "mimetype": "text/x-python",
   "name": "python",
   "nbconvert_exporter": "python",
   "pygments_lexer": "ipython3",
   "version": "3.11.3"
  }
 },
 "nbformat": 4,
 "nbformat_minor": 5
}
