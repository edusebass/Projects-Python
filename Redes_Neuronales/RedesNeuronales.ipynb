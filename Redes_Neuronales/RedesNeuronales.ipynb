#red neuronal
from sklearn.model_selection import train_test_split
import tensorflow as tf
from tensorflow import keras
import pandas as pd

#leer archivo de entrada
datos=pd.read_excel("temperatura.xlsx")
print(datos.head())

#separar las caracteristicas de entrada y salida
X = datos['celsius']
y = datos['fahrenheit']

#dividir los datos en conjuntos de entrenamiento y prueba
X_train, X_test, y_train, y_test = train_test_split(X, y, test_size=0.2, random_state=25)

#crear red neuronal - perceptron (la mas basica)
#input_shape=[1] indica que la entrada es unidimensional (un solo valor)
# capa_entrada = tf.keras.layers.Dense(units=1, input_shape=[1])
# modelo = tf.keras.Sequential([capa_entrada])

#modelo con 2 capas
#capa_entrada = capa_entrada = tf.keras.layers.Dense(units=1, input_shape=[1])
#capa_salida = tf.keras.layers.Dense(units=1)
# modelo = tf.keras.Sequential([capa_entrada, capa_salida])

#modelo con 3 capas
capa_entrada = tf.keras.layers.Dense(units=1, input_shape=[1])
capa_salida = tf.keras.layers.Dense(units=1)
capa_oculta = tf.keras.layers.Dense(units=3)
modelo = tf.keras.Sequential([capa_entrada, capa_oculta, capa_salida])

#compilñar el modelo
modelo.compile(optimizer="adam", loss="mean_squared_error")

#entrenar el modelo
historial = modelo.fit(X_train, y_train, epochs=1000, batch_size=1)

#graficar funcion de perdida
import matplotlib.pyplot as plt
plt.plot(historial.history["loss"])

#evaluar el modelo
perdida = modelo.evaluate(X_test, y_test)
print("perdida: ", perdida)

#prediccion 
print("prediccion", modelo.predict([25]))
